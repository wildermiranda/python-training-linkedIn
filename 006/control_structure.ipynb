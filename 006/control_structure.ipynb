{
 "cells": [
  {
   "cell_type": "markdown",
   "metadata": {},
   "source": [
    "if condição:\n",
    "    Faça isso\n",
    "else:\n",
    "    Faça essa outra coisa"
   ]
  },
  {
   "cell_type": "code",
   "execution_count": 3,
   "metadata": {},
   "outputs": [
    {
     "name": "stdout",
     "output_type": "stream",
     "text": [
      "Há internet\n"
     ]
    }
   ],
   "source": [
    "item = 'internet'\n",
    "\n",
    "lista = ['internet', 'rede', 'wi-fi', 'cabeada']\n",
    "\n",
    "if item in lista:\n",
    "    print('Há internet')\n",
    "else:\n",
    "    print('Não há internet')"
   ]
  },
  {
   "cell_type": "code",
   "execution_count": 4,
   "metadata": {},
   "outputs": [
    {
     "name": "stdout",
     "output_type": "stream",
     "text": [
      "internet\n",
      "rede\n",
      "wi-fi\n",
      "cabeada\n"
     ]
    }
   ],
   "source": [
    "lista = ['internet', 'rede', 'wi-fi', 'cabeada']\n",
    "\n",
    "for item in lista:\n",
    "    print(item)"
   ]
  },
  {
   "cell_type": "code",
   "execution_count": null,
   "metadata": {},
   "outputs": [],
   "source": [
    "i = 0\n",
    "\n",
    "while i <= 10:\n",
    "    print(i)\n",
    "    i += 1"
   ]
  }
 ],
 "metadata": {
  "kernelspec": {
   "display_name": "Python 3",
   "language": "python",
   "name": "python3"
  },
  "language_info": {
   "codemirror_mode": {
    "name": "ipython",
    "version": 3
   },
   "file_extension": ".py",
   "mimetype": "text/x-python",
   "name": "python",
   "nbconvert_exporter": "python",
   "pygments_lexer": "ipython3",
   "version": "3.11.3"
  },
  "orig_nbformat": 4
 },
 "nbformat": 4,
 "nbformat_minor": 2
}
