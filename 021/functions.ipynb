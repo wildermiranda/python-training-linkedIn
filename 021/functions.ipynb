{
 "cells": [
  {
   "cell_type": "code",
   "execution_count": 20,
   "metadata": {},
   "outputs": [],
   "source": [
    "def calculator(num1 = 0, num2 = 0, operation = \"subtract\"):\n",
    "    if operation == 'add':\n",
    "        return num1 + num2\n",
    "    elif operation == 'subtract':\n",
    "        pass\n",
    "    elif operation == 'multiply':\n",
    "        return num1 * num2\n",
    "    elif operation == 'divider':\n",
    "        pass\n",
    "\n",
    "calculator()"
   ]
  },
  {
   "cell_type": "code",
   "execution_count": 21,
   "metadata": {},
   "outputs": [
    {
     "data": {
      "text/plain": [
       "7.5"
      ]
     },
     "execution_count": 21,
     "metadata": {},
     "output_type": "execute_result"
    }
   ],
   "source": [
    "calculator(3, 2.5, 'multiply')"
   ]
  },
  {
   "cell_type": "markdown",
   "metadata": {},
   "source": [
    "Argumentos não nominais ⬇️"
   ]
  },
  {
   "cell_type": "code",
   "execution_count": 22,
   "metadata": {},
   "outputs": [
    {
     "data": {
      "text/plain": [
       "(2, 3, 5, 7, 9)"
      ]
     },
     "execution_count": 22,
     "metadata": {},
     "output_type": "execute_result"
    }
   ],
   "source": [
    "def items(*numbers):\n",
    "    return numbers\n",
    "\n",
    "items(2, 3, 5, 7, 9)"
   ]
  },
  {
   "cell_type": "markdown",
   "metadata": {},
   "source": [
    "Argumentos não nominais e nominais ⬇️"
   ]
  },
  {
   "cell_type": "code",
   "execution_count": 23,
   "metadata": {},
   "outputs": [
    {
     "data": {
      "text/plain": [
       "((2, 3, 5, 7, 9), {'name': 'Willian', 'animal': 'Lion'})"
      ]
     },
     "execution_count": 23,
     "metadata": {},
     "output_type": "execute_result"
    }
   ],
   "source": [
    "def items(*numbers, **kwargs):\n",
    "    return numbers, kwargs\n",
    "\n",
    "items(2, 3, 5, 7, 9, name = \"Willian\", animal = \"Lion\")"
   ]
  },
  {
   "cell_type": "code",
   "execution_count": 25,
   "metadata": {},
   "outputs": [
    {
     "data": {
      "text/plain": [
       "30"
      ]
     },
     "execution_count": 25,
     "metadata": {},
     "output_type": "execute_result"
    }
   ],
   "source": [
    "import math\n",
    "\n",
    "def calculator(*args, **kwargs):\n",
    "    for argument, value in kwargs.items():\n",
    "        if argument == 'operation' and value == 'add':\n",
    "            return sum(args)\n",
    "        elif argument == 'operation' and value == 'subtract':\n",
    "            pass\n",
    "        elif argument == 'operation' and value == 'multiply':\n",
    "            return math.prod(args)\n",
    "        elif argument == 'operation' and value == 'divider':\n",
    "            pass\n",
    "\n",
    "calculator(2, 3, 5, operation = \"multiply\")"
   ]
  },
  {
   "cell_type": "code",
   "execution_count": 27,
   "metadata": {},
   "outputs": [
    {
     "name": "stdout",
     "output_type": "stream",
     "text": [
      "6.75\n"
     ]
    }
   ],
   "source": [
    "add = lambda x, y: print(x + y)\n",
    "\n",
    "add(5, 1.75)"
   ]
  }
 ],
 "metadata": {
  "kernelspec": {
   "display_name": "Python 3",
   "language": "python",
   "name": "python3"
  },
  "language_info": {
   "codemirror_mode": {
    "name": "ipython",
    "version": 3
   },
   "file_extension": ".py",
   "mimetype": "text/x-python",
   "name": "python",
   "nbconvert_exporter": "python",
   "pygments_lexer": "ipython3",
   "version": "3.11.3"
  },
  "orig_nbformat": 4
 },
 "nbformat": 4,
 "nbformat_minor": 2
}
