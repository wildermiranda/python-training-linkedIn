{
 "cells": [
  {
   "cell_type": "markdown",
   "metadata": {},
   "source": [
    "Python é uma linguagem orientada a objetos\n",
    "\n",
    "- As instancias de Classes são chamadas de objetos\n",
    "- As variáveis dentro dessas Classes são chamadas de atributos dos objetos\n",
    "- As funções são chamadas de métodos de Classe"
   ]
  },
  {
   "cell_type": "code",
   "execution_count": 16,
   "metadata": {},
   "outputs": [],
   "source": [
    "class Dog:\n",
    "    def __init__(self, name='Guimo'):\n",
    "        self.paws = 4\n",
    "        self.color = 'dourado'\n",
    "        self.name = name\n",
    "    \n",
    "    def sound(self):\n",
    "        print(self.name + ' is a animal that barks')"
   ]
  },
  {
   "cell_type": "code",
   "execution_count": 17,
   "metadata": {},
   "outputs": [],
   "source": [
    "my_dog = Dog()\n",
    "\n",
    "neighbor_dog = Dog('Wolly')"
   ]
  },
  {
   "cell_type": "code",
   "execution_count": 18,
   "metadata": {},
   "outputs": [
    {
     "name": "stdout",
     "output_type": "stream",
     "text": [
      "Guimo is a animal that barks\n"
     ]
    }
   ],
   "source": [
    "my_dog.sound()"
   ]
  },
  {
   "cell_type": "code",
   "execution_count": 19,
   "metadata": {},
   "outputs": [
    {
     "name": "stdout",
     "output_type": "stream",
     "text": [
      "Wolly is a animal that barks\n"
     ]
    }
   ],
   "source": [
    "neighbor_dog.sound()"
   ]
  }
 ],
 "metadata": {
  "kernelspec": {
   "display_name": "Python 3",
   "language": "python",
   "name": "python3"
  },
  "language_info": {
   "codemirror_mode": {
    "name": "ipython",
    "version": 3
   },
   "file_extension": ".py",
   "mimetype": "text/x-python",
   "name": "python",
   "nbconvert_exporter": "python",
   "pygments_lexer": "ipython3",
   "version": "3.11.3"
  },
  "orig_nbformat": 4
 },
 "nbformat": 4,
 "nbformat_minor": 2
}
