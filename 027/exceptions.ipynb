{
 "cells": [
  {
   "cell_type": "code",
   "execution_count": 17,
   "metadata": {},
   "outputs": [
    {
     "name": "stdout",
     "output_type": "stream",
     "text": [
      "0.09342532328615344\n",
      "Game over 🕹\n"
     ]
    }
   ],
   "source": [
    "from random import random, randrange\n",
    "\n",
    "try:\n",
    "    x = random() / 2\n",
    "    print(x)\n",
    "\n",
    "except ZeroDivisionError:\n",
    "    print('Nenhum número é divisível por zero')\n",
    "    y = randrange(6)\n",
    "    print(f'Vamos dividir o número desejado por {y}')\n",
    "    x = random() / y\n",
    "    print(f'Aqui está o resultado {x}')\n",
    "\n",
    "except TypeError:\n",
    "    print('Existe um erro de tipo. Talvez você esteja tentando aplicar um método não suportado por tipos dados numéricos.')\n",
    "\n",
    "except Exception:\n",
    "    print('Mensagem automática de erro!')\n",
    "\n",
    "finally:\n",
    "    print('Game over 🕹')"
   ]
  },
  {
   "cell_type": "markdown",
   "metadata": {},
   "source": [
    "https://docs.python.org/3/tutorial/errors.html"
   ]
  }
 ],
 "metadata": {
  "kernelspec": {
   "display_name": "Python 3",
   "language": "python",
   "name": "python3"
  },
  "language_info": {
   "codemirror_mode": {
    "name": "ipython",
    "version": 3
   },
   "file_extension": ".py",
   "mimetype": "text/x-python",
   "name": "python",
   "nbconvert_exporter": "python",
   "pygments_lexer": "ipython3",
   "version": "3.11.3"
  },
  "orig_nbformat": 4
 },
 "nbformat": 4,
 "nbformat_minor": 2
}
