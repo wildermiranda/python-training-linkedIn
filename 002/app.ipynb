{
 "cells": [
  {
   "cell_type": "markdown",
   "metadata": {},
   "source": [
    "1. importe o módulo \"time\" \n",
    "2. imprima na tela \"Hello, world!\"\n",
    "3. insira a função \"time.sleep()\" e coloque 2 como argumento\n",
    "4. imprima na tela \"I'm a Python developer\" e \"Aguarde 5 segundos\"\n",
    "5. insira a função \"time.sleep\" e coloque 4.5 como argumento\n",
    "6. imprima na tela \"Ultima linha do programa\""
   ]
  },
  {
   "cell_type": "code",
   "execution_count": 4,
   "metadata": {},
   "outputs": [
    {
     "name": "stdout",
     "output_type": "stream",
     "text": [
      "Hello, world!\n",
      "I'm a Python developer\n",
      "Wait 5 seconds\n",
      "Last line of the program\n"
     ]
    }
   ],
   "source": [
    "import time\n",
    "\n",
    "print(\"Hello, world!\")\n",
    "\n",
    "time.sleep(2)\n",
    "\n",
    "print(\"I'm a Python developer\")\n",
    "print(\"Wait 5 seconds\")\n",
    "\n",
    "time.sleep(5)\n",
    "\n",
    "print(\"Last line of the program\")"
   ]
  }
 ],
 "metadata": {
  "kernelspec": {
   "display_name": "Python 3",
   "language": "python",
   "name": "python3"
  },
  "language_info": {
   "codemirror_mode": {
    "name": "ipython",
    "version": 3
   },
   "file_extension": ".py",
   "mimetype": "text/x-python",
   "name": "python",
   "nbconvert_exporter": "python",
   "pygments_lexer": "ipython3",
   "version": "3.11.3"
  },
  "orig_nbformat": 4
 },
 "nbformat": 4,
 "nbformat_minor": 2
}
