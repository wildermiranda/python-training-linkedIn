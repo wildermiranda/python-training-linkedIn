{
 "cells": [
  {
   "cell_type": "code",
   "execution_count": 7,
   "metadata": {},
   "outputs": [],
   "source": [
    "book = open(\"../data/a_luta_carmen_dolores_trecho.txt\", mode=\"r\")\n",
    "\n",
    "book.close()"
   ]
  },
  {
   "cell_type": "code",
   "execution_count": 9,
   "metadata": {},
   "outputs": [
    {
     "name": "stdout",
     "output_type": "stream",
     "text": [
      "['Título: A Luta\\n', 'Autora: Carmen Dolores\\n', 'Ano: 1909\\n', '\\n', 'Dentro, a sala de jantar resplandecia à larga claridade de três janelas e uma porta\\n', 'abrindo para o jardim, que circulava a casa e onde zumbiam abelhas sobre os cálices de\\n', 'lírios, banhados de sol; e a cidade aparecia num plano inferior de silêncio e de distância,\\n', 'através de um vapor trêmulo e azulado que varava aqui ou ali o reflexo de incêndio de alguma clarabóia ferida \\n', 'por um raio de luz mais direto.\\n', '\\n', 'A mesa, recoberta pela toalha de linho dos grandes dias, tinha o aspecto convidativo,\\n', 'com os seus pratos de sandwiches, pastéis e empadinhas flanqueados pelas garrafas de cristal, \\n', 'em que brilhava um vinho aparentemente fino;\\n', \"pirâmides de fios d'ovos e compoteiras de doces feitos em casa alternavam com as fruteiras em que enrubesciam maçãs junto aos\\n\", 'cachos de uvas, decorativamente espalhados - e toda uma profusão de flores em altos ramos circunscrevia a vista.\\n', '\\n', '[trecho da obra original]']\n"
     ]
    }
   ],
   "source": [
    "with open(\"../data/a_luta_carmen_dolores_trecho.txt\", mode=\"r\") as txt_file:\n",
    "    lines = txt_file.readlines()\n",
    "    print(lines)"
   ]
  },
  {
   "cell_type": "code",
   "execution_count": 11,
   "metadata": {},
   "outputs": [
    {
     "name": "stdout",
     "output_type": "stream",
     "text": [
      "Título: A Luta\n",
      "Autora: Carmen Dolores\n",
      "Ano: 1909\n",
      "\n",
      "Dentro, a sala de jantar resplandecia à larga claridade de três janelas e uma porta\n",
      "abrindo para o jardim, que circulava a casa e onde zumbiam abelhas sobre os cálices de\n",
      "lírios, banhados de sol; e a cidade aparecia num plano inferior de silêncio e de distância,\n",
      "através de um vapor trêmulo e azulado que varava aqui ou ali o reflexo de incêndio de alguma clarabóia ferida\n",
      "por um raio de luz mais direto.\n",
      "\n",
      "A mesa, recoberta pela toalha de linho dos grandes dias, tinha o aspecto convidativo,\n",
      "com os seus pratos de sandwiches, pastéis e empadinhas flanqueados pelas garrafas de cristal,\n",
      "em que brilhava um vinho aparentemente fino;\n",
      "pirâmides de fios d'ovos e compoteiras de doces feitos em casa alternavam com as fruteiras em que enrubesciam maçãs junto aos\n",
      "cachos de uvas, decorativamente espalhados - e toda uma profusão de flores em altos ramos circunscrevia a vista.\n",
      "\n",
      "[trecho da obra original]\n"
     ]
    }
   ],
   "source": [
    "with open(\"../data/a_luta_carmen_dolores_trecho.txt\", mode=\"r\") as txt_file:\n",
    "    lines = txt_file.readlines()\n",
    "\n",
    "    for line in lines:\n",
    "        print(line.strip())"
   ]
  },
  {
   "cell_type": "code",
   "execution_count": 5,
   "metadata": {},
   "outputs": [],
   "source": [
    "with open(\"../data/a_luta_carmen_dolores_trecho.txt\", mode=\"a\") as txt_file:\n",
    "    txt_file.write('\\n\\n Last line! 💜')"
   ]
  },
  {
   "cell_type": "code",
   "execution_count": 6,
   "metadata": {},
   "outputs": [],
   "source": [
    "book = open(\"../data/a_luta_carmen_dolores_trecho.txt\", mode=\"r\")\n",
    "\n",
    "with open(\"../data/copy_a_luta_carmen_dolores_trecho.txt\", mode=\"w\") as txt_file:\n",
    "   lines = book.readlines()\n",
    "   txt_file.writelines(lines)\n",
    "\n",
    "book.close()"
   ]
  },
  {
   "cell_type": "markdown",
   "metadata": {},
   "source": [
    "https://docs.python.org/3/library/functions.html#open"
   ]
  }
 ],
 "metadata": {
  "kernelspec": {
   "display_name": "Python 3",
   "language": "python",
   "name": "python3"
  },
  "language_info": {
   "codemirror_mode": {
    "name": "ipython",
    "version": 3
   },
   "file_extension": ".py",
   "mimetype": "text/x-python",
   "name": "python",
   "nbconvert_exporter": "python",
   "pygments_lexer": "ipython3",
   "version": "3.11.3"
  },
  "orig_nbformat": 4
 },
 "nbformat": 4,
 "nbformat_minor": 2
}
