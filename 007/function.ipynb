{
 "cells": [
  {
   "cell_type": "code",
   "execution_count": 1,
   "metadata": {},
   "outputs": [
    {
     "name": "stdout",
     "output_type": "stream",
     "text": [
      "Heey!\n"
     ]
    }
   ],
   "source": [
    "print('Heey!')"
   ]
  },
  {
   "cell_type": "code",
   "execution_count": 2,
   "metadata": {},
   "outputs": [
    {
     "data": {
      "text/plain": [
       "7.5"
      ]
     },
     "execution_count": 2,
     "metadata": {},
     "output_type": "execute_result"
    }
   ],
   "source": [
    "def multiply(number1, number2):\n",
    "    return number1 * number2\n",
    "\n",
    "\n",
    "multiply(3, 2.5)"
   ]
  },
  {
   "cell_type": "code",
   "execution_count": 4,
   "metadata": {},
   "outputs": [
    {
     "name": "stdout",
     "output_type": "stream",
     "text": [
      "['Wilder', 'John', 'Willian']\n"
     ]
    }
   ],
   "source": [
    "def removeTheLastItemFromTheList(lista):\n",
    "    lista.pop()\n",
    "\n",
    "peoples = ['Wilder', 'John', 'Willian', 'Nathan Aké']\n",
    "\n",
    "removeTheLastItemFromTheList(peoples)\n",
    "\n",
    "print(peoples)"
   ]
  },
  {
   "cell_type": "markdown",
   "metadata": {},
   "source": [
    "Funções são pequenas partes que juntas constroem uma resolução.\n",
    "\n",
    "Ao desenvolver um programa que crie triângulos coloridos, deverá conter duas funções: para gerar os triângulos e os colorir."
   ]
  }
 ],
 "metadata": {
  "kernelspec": {
   "display_name": "Python 3",
   "language": "python",
   "name": "python3"
  },
  "language_info": {
   "codemirror_mode": {
    "name": "ipython",
    "version": 3
   },
   "file_extension": ".py",
   "mimetype": "text/x-python",
   "name": "python",
   "nbconvert_exporter": "python",
   "pygments_lexer": "ipython3",
   "version": "3.11.3"
  },
  "orig_nbformat": 4
 },
 "nbformat": 4,
 "nbformat_minor": 2
}
