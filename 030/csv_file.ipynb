{
 "cells": [
  {
   "cell_type": "code",
   "execution_count": 11,
   "metadata": {},
   "outputs": [],
   "source": [
    "import csv"
   ]
  },
  {
   "cell_type": "code",
   "execution_count": 6,
   "metadata": {},
   "outputs": [
    {
     "name": "stdout",
     "output_type": "stream",
     "text": [
      "['continente', 'pais', 'ano', 'população', '%_crescimento_populacional', 'crescimento_populacional', 'migrantes', 'idade_media', '%_fertilidade', '%_populacao_urbana', 'populacao_urbana', '%_populacao_mundial', 'classificacao']\n",
      "['Asia', 'Afghanistan', '1955', '8270991', '1.3', '103775', '-4000', '19.2', '7.45', '7.1', '587818', '0.3', '48']\n",
      "['Asia', 'Afghanistan', '1960', '8996973', '1.7', '145196', '-4000', '18.8', '7.45', '8.4', '755797', '0.3', '48']\n",
      "['Asia', 'Afghanistan', '1965', '9956320', '2.05', '191869', '-4000', '18.4', '7.45', '9.9', '984350', '0.3', '48']\n",
      "['Asia', 'Afghanistan', '1970', '11173642', '2.33', '243464', '-4000', '17.9', '7.45', '11.6', '1295433', '0.3', '48']\n"
     ]
    }
   ],
   "source": [
    "with open(\"../data/populacao_mundial.csv\", \"r\") as csv_file:\n",
    "    data = list(csv.reader(csv_file, delimiter=\"\\t\"))\n",
    "\n",
    "    for line in data[:5]:\n",
    "        print(line)\n",
    "    pass"
   ]
  },
  {
   "cell_type": "code",
   "execution_count": 7,
   "metadata": {},
   "outputs": [
    {
     "name": "stdout",
     "output_type": "stream",
     "text": [
      "('Afghanistan', '1955')\n",
      "('Afghanistan', '1960')\n",
      "('Afghanistan', '1965')\n",
      "('Afghanistan', '1970')\n"
     ]
    }
   ],
   "source": [
    "header = ['country', 'year']\n",
    "\n",
    "country_population = ['Afghanistan', 'Afghanistan', 'Afghanistan', 'Afghanistan']\n",
    "year_population = ['1955', '1960', '1965', '1970']\n",
    "\n",
    "for line in zip(country_population, year_population):\n",
    "    print(line)"
   ]
  },
  {
   "cell_type": "code",
   "execution_count": 8,
   "metadata": {},
   "outputs": [
    {
     "name": "stdout",
     "output_type": "stream",
     "text": [
      "[('Afghanistan', '1955'), ('Afghanistan', '1960'), ('Afghanistan', '1965'), ('Afghanistan', '1970')]\n"
     ]
    }
   ],
   "source": [
    "header = ['country', 'year']\n",
    "\n",
    "country_population = ['Afghanistan', 'Afghanistan', 'Afghanistan', 'Afghanistan']\n",
    "year_population = ['1955', '1960', '1965', '1970']\n",
    "\n",
    "lines = []\n",
    "\n",
    "for line in zip(country_population, year_population):\n",
    "    lines.append(line)\n",
    "print(lines)"
   ]
  },
  {
   "cell_type": "code",
   "execution_count": 15,
   "metadata": {},
   "outputs": [],
   "source": [
    "header = ['country', 'year']\n",
    "\n",
    "country_population = ['Afghanistan', 'Afghanistan', 'Afghanistan', 'Afghanistan']\n",
    "year_population = ['1955', '1960', '1965', '1970']\n",
    "\n",
    "lines = []\n",
    "\n",
    "for line in zip(country_population, year_population):\n",
    "    lines.append(line)\n",
    "\n",
    "with open('../data/sample.csv', 'w') as sample:\n",
    "    writing = csv.writer(sample)\n",
    "    writing.writerow(header)\n",
    "    writing.writerows(lines)\n",
    "    \n",
    "    pass"
   ]
  },
  {
   "cell_type": "markdown",
   "metadata": {},
   "source": [
    "https://docs.python.org/3/library/csv.html"
   ]
  }
 ],
 "metadata": {
  "kernelspec": {
   "display_name": "Python 3",
   "language": "python",
   "name": "python3"
  },
  "language_info": {
   "codemirror_mode": {
    "name": "ipython",
    "version": 3
   },
   "file_extension": ".py",
   "mimetype": "text/x-python",
   "name": "python",
   "nbconvert_exporter": "python",
   "pygments_lexer": "ipython3",
   "version": "3.11.3"
  },
  "orig_nbformat": 4
 },
 "nbformat": 4,
 "nbformat_minor": 2
}
