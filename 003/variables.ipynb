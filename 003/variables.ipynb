{
 "cells": [
  {
   "cell_type": "markdown",
   "metadata": {},
   "source": [
    "Convenções para nomear variáveis\n",
    "\n",
    "- iniciar sempre com letras minúscula\n",
    "- Pode ser composto por letras, algarismos e underline\n",
    "- Não deve possuir palavras reservadas"
   ]
  },
  {
   "cell_type": "code",
   "execution_count": 3,
   "metadata": {},
   "outputs": [
    {
     "name": "stdout",
     "output_type": "stream",
     "text": [
      "John eats a big sandwich.\n"
     ]
    }
   ],
   "source": [
    "name = \"John\"\n",
    "\n",
    "print(name + \" eats a big sandwich.\")"
   ]
  },
  {
   "cell_type": "markdown",
   "metadata": {},
   "source": [
    "Data types"
   ]
  },
  {
   "cell_type": "code",
   "execution_count": 3,
   "metadata": {},
   "outputs": [
    {
     "name": "stdout",
     "output_type": "stream",
     "text": [
      "asas\n",
      "sasa\n",
      "sasa\n"
     ]
    }
   ],
   "source": [
    "integer = 9\n",
    "\n",
    "decimal = 3.1416\n",
    "\n",
    "boolean = False\n",
    "\n",
    "\n",
    "# Números complexos são usados em Engenharia, Física Quântica, entre outros.\n",
    "\n",
    "complexo = 5+2j\n",
    "\n",
    "\n",
    "# Aspas triplas para quando há mais de uma linha\n",
    "\n",
    "triple = '''asas\n",
    "sasa\n",
    "sasa'''\n",
    "\n",
    "print(triple)"
   ]
  },
  {
   "cell_type": "code",
   "execution_count": 10,
   "metadata": {},
   "outputs": [
    {
     "data": {
      "text/plain": [
       "bool"
      ]
     },
     "execution_count": 10,
     "metadata": {},
     "output_type": "execute_result"
    }
   ],
   "source": [
    "boolean = False\n",
    "\n",
    "type(boolean)"
   ]
  }
 ],
 "metadata": {
  "kernelspec": {
   "display_name": "Python 3",
   "language": "python",
   "name": "python3"
  },
  "language_info": {
   "codemirror_mode": {
    "name": "ipython",
    "version": 3
   },
   "file_extension": ".py",
   "mimetype": "text/x-python",
   "name": "python",
   "nbconvert_exporter": "python",
   "pygments_lexer": "ipython3",
   "version": "3.11.3"
  },
  "orig_nbformat": 4
 },
 "nbformat": 4,
 "nbformat_minor": 2
}
