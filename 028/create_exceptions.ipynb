{
 "cells": [
  {
   "cell_type": "markdown",
   "metadata": {},
   "source": [
    "Você pode customizar exceções nos seus projetos, isso é útil para documentar os problemas que podem acontecer, sabendo o que causou e as soluções. \n",
    "\n",
    "Imagine que você está desenvolvendo um servidor web e é necessário gerar exceções http em alguns pontos do seu código. ⬇️"
   ]
  },
  {
   "cell_type": "code",
   "execution_count": 1,
   "metadata": {},
   "outputs": [],
   "source": [
    "class HttpException(Exception):\n",
    "    code_status = None\n",
    "    message = None\n",
    "\n",
    "    def __init__(self):\n",
    "        super().__init__(f'Status code: {self.code_status}. Message: {self.message}')\n",
    "\n",
    "class Unauthorized(HttpException):\n",
    "    code_status = 401\n",
    "    message = 'Acesso não autorizado! ⚠️'\n",
    "\n",
    "class BadGateway(HttpException):\n",
    "    code_status = 502\n",
    "    message = 'Esse servidor é um gateway ou servidor proxy, que não está recebendo resposta válida dos servidores do Back-end! ⚠️'"
   ]
  },
  {
   "cell_type": "code",
   "execution_count": 2,
   "metadata": {},
   "outputs": [],
   "source": [
    "def raiseUnauthorizedError():\n",
    "    raise Unauthorized()"
   ]
  },
  {
   "cell_type": "code",
   "execution_count": 3,
   "metadata": {},
   "outputs": [
    {
     "ename": "Unauthorized",
     "evalue": "Status code: 401. Message: Acesso não autorizado! ⚠️",
     "output_type": "error",
     "traceback": [
      "\u001b[0;31m---------------------------------------------------------------------------\u001b[0m",
      "\u001b[0;31mUnauthorized\u001b[0m                              Traceback (most recent call last)",
      "Cell \u001b[0;32mIn[3], line 1\u001b[0m\n\u001b[0;32m----> 1\u001b[0m raiseUnauthorizedError()\n",
      "Cell \u001b[0;32mIn[2], line 2\u001b[0m, in \u001b[0;36mraiseUnauthorizedError\u001b[0;34m()\u001b[0m\n\u001b[1;32m      1\u001b[0m \u001b[39mdef\u001b[39;00m \u001b[39mraiseUnauthorizedError\u001b[39m():\n\u001b[0;32m----> 2\u001b[0m     \u001b[39mraise\u001b[39;00m Unauthorized()\n",
      "\u001b[0;31mUnauthorized\u001b[0m: Status code: 401. Message: Acesso não autorizado! ⚠️"
     ]
    }
   ],
   "source": [
    "raiseUnauthorizedError()"
   ]
  }
 ],
 "metadata": {
  "kernelspec": {
   "display_name": "Python 3",
   "language": "python",
   "name": "python3"
  },
  "language_info": {
   "codemirror_mode": {
    "name": "ipython",
    "version": 3
   },
   "file_extension": ".py",
   "mimetype": "text/x-python",
   "name": "python",
   "nbconvert_exporter": "python",
   "pygments_lexer": "ipython3",
   "version": "3.11.3"
  },
  "orig_nbformat": 4
 },
 "nbformat": 4,
 "nbformat_minor": 2
}
