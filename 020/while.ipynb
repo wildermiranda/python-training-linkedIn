{
 "cells": [
  {
   "cell_type": "code",
   "execution_count": 68,
   "metadata": {},
   "outputs": [
    {
     "name": "stdout",
     "output_type": "stream",
     "text": [
      "Etapa 0\n",
      "Etapa 1\n",
      "Etapa 2\n",
      "Etapa 3\n",
      "Etapa 4\n",
      "Etapa 5\n",
      "Game over! 🕹\n"
     ]
    }
   ],
   "source": [
    "beginning = 0\n",
    "end = 5\n",
    "\n",
    "while beginning <= end:\n",
    "    print(f'Etapa {beginning}')\n",
    "    beginning += 1\n",
    "else:\n",
    "    print('Game over! 🕹')"
   ]
  },
  {
   "cell_type": "markdown",
   "metadata": {},
   "source": [
    "`continue` - A execução retorna para o começo\n",
    "\n",
    "`pass` - A execução segue\n",
    "\n",
    "`break` - Nenhuma execução é feita após o break"
   ]
  },
  {
   "cell_type": "code",
   "execution_count": 85,
   "metadata": {},
   "outputs": [
    {
     "name": "stdout",
     "output_type": "stream",
     "text": [
      "Essa é a melhor etapa! 💜\n",
      "Etapa 2\n",
      "Etapa 3\n"
     ]
    }
   ],
   "source": [
    "i = 0\n",
    "\n",
    "while i <= 5:\n",
    "    i += 1\n",
    "\n",
    "    if i == 1:\n",
    "        continue\n",
    "    elif i == 2:\n",
    "        print('Essa é a melhor etapa! 💜')\n",
    "    elif i == 3:\n",
    "        pass\n",
    "    elif i == 4:\n",
    "        break\n",
    "    \n",
    "    print(f'Etapa {i}')\n",
    "\n",
    "else:\n",
    "    print('Game over! 🕹')"
   ]
  }
 ],
 "metadata": {
  "kernelspec": {
   "display_name": "Python 3",
   "language": "python",
   "name": "python3"
  },
  "language_info": {
   "codemirror_mode": {
    "name": "ipython",
    "version": 3
   },
   "file_extension": ".py",
   "mimetype": "text/x-python",
   "name": "python",
   "nbconvert_exporter": "python",
   "pygments_lexer": "ipython3",
   "version": "3.11.3"
  },
  "orig_nbformat": 4
 },
 "nbformat": 4,
 "nbformat_minor": 2
}
