{
 "cells": [
  {
   "cell_type": "code",
   "execution_count": 3,
   "metadata": {},
   "outputs": [
    {
     "data": {
      "text/plain": [
       "{'6-J': 'Joseph', '7-W': 'Willian', '6-W': 'Wilder'}"
      ]
     },
     "execution_count": 3,
     "metadata": {},
     "output_type": "execute_result"
    }
   ],
   "source": [
    "nomes = ['Joseph', 'Willian', 'Wilder']\n",
    "\n",
    "dicionário = {}\n",
    "\n",
    "for nome in nomes:\n",
    "    dicionário[ f'{len(nome)}-{nome[0]}' ] = nome\n",
    "\n",
    "dicionário"
   ]
  },
  {
   "cell_type": "markdown",
   "metadata": {},
   "source": [
    "Dictionary comprehension ⬇️"
   ]
  },
  {
   "cell_type": "code",
   "execution_count": 2,
   "metadata": {},
   "outputs": [
    {
     "data": {
      "text/plain": [
       "{'6-J': 'Joseph', '7-W': 'Willian', '6-W': 'Wilder'}"
      ]
     },
     "execution_count": 2,
     "metadata": {},
     "output_type": "execute_result"
    }
   ],
   "source": [
    "names = ['Joseph', 'Willian', 'Wilder']\n",
    "\n",
    "dictionary = { f'{len(name)}-{name[0]}': name for name in names }\n",
    "\n",
    "dictionary"
   ]
  },
  {
   "cell_type": "markdown",
   "metadata": {},
   "source": [
    "É possível criar dicionários a partir de tuplas ⬇️"
   ]
  },
  {
   "cell_type": "code",
   "execution_count": 9,
   "metadata": {},
   "outputs": [
    {
     "name": "stdout",
     "output_type": "stream",
     "text": [
      "I like Banana and Pear. 🍌\n"
     ]
    }
   ],
   "source": [
    "x, y = ('Banana', 'Pear')\n",
    "\n",
    "print(f'I like {x} and {y}. 🍌')"
   ]
  },
  {
   "cell_type": "code",
   "execution_count": 12,
   "metadata": {},
   "outputs": [
    {
     "name": "stdout",
     "output_type": "stream",
     "text": [
      "Manchester City and FC Barcelona are in the Champions League.\n"
     ]
    }
   ],
   "source": [
    "tupla = [('Manchester City', 'FC Barcelona')]\n",
    "\n",
    "for v, w in tupla:\n",
    "    print(f'{v} and {w} are in the Champions League.')"
   ]
  },
  {
   "cell_type": "code",
   "execution_count": 16,
   "metadata": {},
   "outputs": [
    {
     "data": {
      "text/plain": [
       "{'Name': 'Willian', 'Nickname': 'Will', 'Age': 38}"
      ]
     },
     "execution_count": 16,
     "metadata": {},
     "output_type": "execute_result"
    }
   ],
   "source": [
    "person = [('Name', 'Willian'), ('Nickname', 'Will'), ('Age', 38)]\n",
    "\n",
    "tuples_dictionary = { key: value for (key, value) in person }\n",
    "\n",
    "tuples_dictionary"
   ]
  },
  {
   "cell_type": "code",
   "execution_count": 17,
   "metadata": {},
   "outputs": [
    {
     "name": "stdout",
     "output_type": "stream",
     "text": [
      "{'Name': 'WillianWillian', 'Nickname': 'WillWill', 'Age': 76}\n"
     ]
    }
   ],
   "source": [
    "# Esse código depende do código anterior\n",
    "\n",
    "dictionary_copy = { key: (value * 2) for (key, value) in tuples_dictionary.items() }\n",
    "\n",
    "print(dictionary_copy)"
   ]
  },
  {
   "cell_type": "code",
   "execution_count": 18,
   "metadata": {},
   "outputs": [
    {
     "data": {
      "text/plain": [
       "{'Age': 76}"
      ]
     },
     "execution_count": 18,
     "metadata": {},
     "output_type": "execute_result"
    }
   ],
   "source": [
    "# Esse código depende do código anterior\n",
    "\n",
    "filtered_dictionary = {key: value for (key, value) in dictionary_copy.items() if len(key) <= 3}\n",
    "\n",
    "filtered_dictionary"
   ]
  }
 ],
 "metadata": {
  "kernelspec": {
   "display_name": "Python 3",
   "language": "python",
   "name": "python3"
  },
  "language_info": {
   "codemirror_mode": {
    "name": "ipython",
    "version": 3
   },
   "file_extension": ".py",
   "mimetype": "text/x-python",
   "name": "python",
   "nbconvert_exporter": "python",
   "pygments_lexer": "ipython3",
   "version": "3.11.3"
  },
  "orig_nbformat": 4
 },
 "nbformat": 4,
 "nbformat_minor": 2
}
